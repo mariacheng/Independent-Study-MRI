{
 "cells": [
  {
   "cell_type": "markdown",
   "metadata": {},
   "source": [
    "# Prostate MRI Dataset"
   ]
  },
  {
   "cell_type": "code",
   "execution_count": 1,
   "metadata": {},
   "outputs": [],
   "source": [
    "import scipy.io\n",
    "import numpy as np\n",
    "import os\n",
    "import matplotlib.pyplot as plt\n",
    "\n",
    "dir_path = os.path.join('data', 'data')"
   ]
  },
  {
   "cell_type": "code",
   "execution_count": 2,
   "metadata": {},
   "outputs": [],
   "source": [
    "def trim_2D(array, value):\n",
    "    \n",
    "    epsilon = 1e-2\n",
    "\n",
    "    # trim x\n",
    "    for i in range(array.shape[0]):\n",
    "        if abs(np.sum(array[i,:]) / array[i,:].shape[0] - value) > epsilon:\n",
    "            break\n",
    "    for j in reversed(range(array.shape[0])):\n",
    "        if abs(np.sum(array[j,:]) / array[j,:].shape[0] - value) > epsilon:\n",
    "            break\n",
    "    array = array[i:j+1,:]\n",
    "    \n",
    "    # trim y\n",
    "    for i in range(array.shape[1]):\n",
    "        if abs(np.sum(array[:,i]) / array[:,i].shape[0] - value) > epsilon:\n",
    "            break\n",
    "    for j in reversed(range(array.shape[1])):\n",
    "        if abs(np.sum(array[:,j]) / array[:,j].shape[0] - value) > epsilon:\n",
    "            break\n",
    "    array = array[:,i:j+1]\n",
    "    \n",
    "    return(array)"
   ]
  },
  {
   "cell_type": "code",
   "execution_count": 3,
   "metadata": {},
   "outputs": [],
   "source": [
    "data = []\n",
    "for i, file in enumerate(os.listdir(dir_path)):\n",
    "    \n",
    "    mat_file = scipy.io.loadmat(os.path.join(dir_path, file))\n",
    "    \n",
    "    pid = mat_file['casesTableArr'][0][0][0][0][0][0][0]\n",
    "    \n",
    "    patient_dict = {}\n",
    "    \n",
    "    patient_dict['id'] = pid\n",
    "    patient_dict['T2'] = mat_file['T2']\n",
    "    patient_dict['ADC'] = mat_file['ADC']\n",
    "    patient_dict['CDI'] = mat_file['CDI']\n",
    "    patient_dict['HBV'] = mat_file['HBV']\n",
    "    patient_dict['PIRADS_score'] = mat_file['casesTableArr'][0][0][1][0][0]\n",
    "    patient_dict['curGleason_score'] = mat_file['casesTableArr'][0][0][2][0][0]\n",
    "    patient_dict['maxGleason_score'] = mat_file['casesTableArr'][0][0][3][0][0]\n",
    "    patient_dict['PIRADS_map'] = mat_file['casesTableArr'][0][0][4]\n",
    "    patient_dict['curGleason_map'] = mat_file['casesTableArr'][0][0][5]\n",
    "    patient_dict['maxGleason_map'] = mat_file['casesTableArr'][0][0][6]\n",
    "    patient_dict['mask'] = mat_file['PMask']\n",
    "    patient_dict['zone_map'] = mat_file['casesTableArr'][0][0][7]\n",
    "        \n",
    "    data.append(patient_dict)"
   ]
  },
  {
   "cell_type": "code",
   "execution_count": 4,
   "metadata": {},
   "outputs": [],
   "source": [
    "fold_dict = {}\n",
    "with open('5folds.txt', 'r') as f:\n",
    "    for line in f:\n",
    "        pid, fold_no = line.split()\n",
    "        fold_dict[str(pid)] = int(fold_no)"
   ]
  },
  {
   "cell_type": "code",
   "execution_count": 5,
   "metadata": {},
   "outputs": [],
   "source": [
    "examples = {}\n",
    "labels = []\n",
    "max_adc = 3949\n",
    "\n",
    "for modality in ['ADC', 'HBV']: # TODO: add T2-weighted images (if we get the labels)\n",
    "    \n",
    "    label_map = 'maxGleason_map'\n",
    "    zone_map = 'zone_map'\n",
    "        \n",
    "    examples[modality] = []\n",
    "    \n",
    "    for _ in range(5):\n",
    "        examples[modality].append([])\n",
    "        labels.append([])\n",
    "\n",
    "    for patient in data:\n",
    "        \n",
    "        pid = patient['id']\n",
    "        if pid in ['P00000015', 'P00000249', 'P00000429']: # remove bad data\n",
    "            continue\n",
    "\n",
    "        fold_id = fold_dict[pid] - 1\n",
    "\n",
    "        patient_examples = []\n",
    "        patient_labels = []\n",
    "\n",
    "        if patient[zone_map].shape[-1] != patient[modality].shape[-1]: # check if segmentation map has same num slices as mri\n",
    "            continue\n",
    "\n",
    "        for slice_index in range(patient[modality].shape[-1]):\n",
    "\n",
    "            for zone_index in range(10):\n",
    "                zone_number = zone_index + 1\n",
    "\n",
    "                if zone_number in patient[zone_map][:,:,slice_index]: # check zone map to see if the slice contains the zone\n",
    "\n",
    "                    binary_mask = patient[zone_map][:,:,slice_index] == zone_number  # create a binary mask\n",
    "                    \n",
    "                    if modality == 'ADC':\n",
    "                        adc_mask = np.invert(binary_mask) * max_adc # mask using max adc value\n",
    "                        example = patient[modality][:,:,slice_index] * binary_mask  # apply the mask to the slice\n",
    "                        example = example + adc_mask\n",
    "                        trimmed_example = trim_2D(example, max_adc)\n",
    "                    else:\n",
    "                        example = patient[modality][:,:,slice_index] * binary_mask  # apply the mask to the slice\n",
    "                        trimmed_example = trim_2D(example, 0)  # trim the slice to the dimensions of the prostate zone\n",
    "                    \n",
    "                    patient_examples.append(trimmed_example)\n",
    "                    patient_labels.append(1 if patient[label_map][slice_index][zone_index] >0 else 0)\n",
    "\n",
    "        examples[modality][fold_id].extend(patient_examples)\n",
    "        labels[fold_id].extend(patient_labels)"
   ]
  },
  {
   "cell_type": "code",
   "execution_count": 6,
   "metadata": {},
   "outputs": [],
   "source": [
    "#aucs = []\n",
    "for i in range(5): # CV Loop\n",
    "    \n",
    "    x_train = []\n",
    "    y_train = []\n",
    "    \n",
    "    x_test = examples['HBV'][i]\n",
    "    y_test = labels[i]\n",
    "    \n",
    "    for j in range(5):\n",
    "        if i != j:\n",
    "            x_train.extend(examples['HBV'][j])\n",
    "            y_train.extend(labels[j])\n",
    "                \n",
    "    # TODO: feature extraction / features selection / classification here\n",
    "    \n",
    "    # auc = auc_calculation(y_pred, y_test)\n",
    "    \n",
    "# mean_auc = sum(aucs) / float(len(aucs))\n",
    "# print(mean_auc)"
   ]
  },
  {
   "cell_type": "code",
   "execution_count": 7,
   "metadata": {},
   "outputs": [
    {
     "data": {
      "text/plain": [
       "<matplotlib.image.AxesImage at 0x7fcc996ba710>"
      ]
     },
     "execution_count": 7,
     "metadata": {},
     "output_type": "execute_result"
    },
    {
     "data": {
      "image/png": "[encoded data removed]",
      "text/plain": [
       "<Figure size 432x288 with 1 Axes>"
      ]
     },
     "metadata": {
      "needs_background": "light"
     },
     "output_type": "display_data"
    }
   ],
   "source": [
    "plt.imshow(x_train[9])"
   ]
  },
  {
   "cell_type": "code",
   "execution_count": 8,
   "metadata": {},
   "outputs": [
    {
     "data": {
      "text/plain": [
       "array([[  0.        ,  72.92454449,  55.56084737,  62.79511204,\n",
       "         67.34659737,   0.        ],\n",
       "       [  0.        ,  95.14516444,  60.8231382 ,  65.42253413,\n",
       "         61.7183382 ,  72.77728833],\n",
       "       [  0.        ,  66.621497  ,  59.24214257,  63.54369517,\n",
       "         41.78152263,   0.        ],\n",
       "       [  0.        ,  62.60982999,  82.75911341,  50.2072637 ,\n",
       "         33.09171456,   0.        ],\n",
       "       [ 68.58323863,  71.80440163,  80.0520225 ,   0.        ,\n",
       "          0.        ,   0.        ],\n",
       "       [104.8489149 ,  70.21425883,   0.        ,   0.        ,\n",
       "          0.        ,   0.        ]])"
      ]
     },
     "execution_count": 8,
     "metadata": {},
     "output_type": "execute_result"
    }
   ],
   "source": [
    "x_train[9]"
   ]
  },
  {
   "cell_type": "code",
   "execution_count": 9,
   "metadata": {},
   "outputs": [],
   "source": [
    "#aucs = []\n",
    "for i in range(5): # CV Loop\n",
    "    \n",
    "    x_train = []\n",
    "    y_train = []\n",
    "    \n",
    "    x_test = examples['ADC'][i]\n",
    "    y_test = labels[i]\n",
    "    \n",
    "    for j in range(5):\n",
    "        if i != j:\n",
    "            x_train.extend(examples['ADC'][j])\n",
    "            y_train.extend(labels[j])\n",
    "                \n",
    "    # TODO: feature extraction / features selection / classification here\n",
    "    \n",
    "    # auc = auc_calculation(y_pred, y_test)\n",
    "    \n",
    "# mean_auc = sum(aucs) / float(len(aucs))\n",
    "# print(mean_auc)"
   ]
  },
  {
   "cell_type": "code",
   "execution_count": 10,
   "metadata": {},
   "outputs": [
    {
     "data": {
      "text/plain": [
       "<matplotlib.image.AxesImage at 0x7fcc1141e5c0>"
      ]
     },
     "execution_count": 10,
     "metadata": {},
     "output_type": "execute_result"
    },
    {
     "data": {
      "image/png": "[encoded data removed]",
      "text/plain": [
       "<Figure size 432x288 with 1 Axes>"
      ]
     },
     "metadata": {
      "needs_background": "light"
     },
     "output_type": "display_data"
    }
   ],
   "source": [
    "plt.imshow(x_train[9])"
   ]
  },
  {
   "cell_type": "code",
   "execution_count": 11,
   "metadata": {},
   "outputs": [
    {
     "data": {
      "text/plain": [
       "array([[3949.        , 1781.1179542 , 2096.59463096, 1951.25038423,\n",
       "        1667.23986406, 3949.        ],\n",
       "       [3949.        , 1512.6479901 , 1940.79508515, 1938.73027446,\n",
       "        1828.2337713 , 1478.41179129],\n",
       "       [3949.        , 1806.47306319, 1933.19941712, 1819.89751845,\n",
       "        2004.10510127, 3949.        ],\n",
       "       [3949.        , 1962.28228623, 1683.64493816, 1923.00544784,\n",
       "        2158.36545182, 3949.        ],\n",
       "       [1999.39636022, 1921.38492333, 1631.12132018, 3949.        ,\n",
       "        3949.        , 3949.        ],\n",
       "       [1675.25412909, 1888.94071647, 3949.        , 3949.        ,\n",
       "        3949.        , 3949.        ]])"
      ]
     },
     "execution_count": 11,
     "metadata": {},
     "output_type": "execute_result"
    }
   ],
   "source": [
    "x_train[9]"
   ]
  },
  {
   "cell_type": "code",
   "execution_count": null,
   "metadata": {},
   "outputs": [],
   "source": []
  }
 ],
 "metadata": {
  "kernelspec": {
   "display_name": "Python 3",
   "language": "python",
   "name": "python3"
  },
  "language_info": {
   "codemirror_mode": {
    "name": "ipython",
    "version": 3
   },
   "file_extension": ".py",
   "mimetype": "text/x-python",
   "name": "python",
   "nbconvert_exporter": "python",
   "pygments_lexer": "ipython3",
   "version": "3.7.2"
  }
 },
 "nbformat": 4,
 "nbformat_minor": 2
}
